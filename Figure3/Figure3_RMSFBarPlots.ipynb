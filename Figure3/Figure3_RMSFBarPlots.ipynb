{
 "cells": [
  {
   "cell_type": "code",
   "execution_count": 1,
   "metadata": {},
   "outputs": [
    {
     "name": "stderr",
     "output_type": "stream",
     "text": [
      "/opt/anaconda3/lib/python3.7/site-packages/statsmodels/tools/_testing.py:19: FutureWarning: pandas.util.testing is deprecated. Use the functions in the public API at pandas.testing instead.\n",
      "  import pandas.util.testing as tm\n"
     ]
    }
   ],
   "source": [
    "import MDAnalysis as mda\n",
    "from MDAnalysis.analysis import rms, align\n",
    "import matplotlib.pyplot as plt\n",
    "import pandas as pd\n",
    "import numpy as np\n",
    "import seaborn as sns\n",
    "import matplotlib"
   ]
  },
  {
   "cell_type": "code",
   "execution_count": 2,
   "metadata": {},
   "outputs": [],
   "source": [
    "path = \"/home/kmpiston/linker_2021/proline_mutations/charmm-gui-3032962052/gromacs/\"\n",
    "tpr = 'pro_mut.tpr'\n",
    "traj = 'center_pro_mut.xtc'"
   ]
  },
  {
   "cell_type": "code",
   "execution_count": 3,
   "metadata": {},
   "outputs": [],
   "source": [
    "#Universe\n",
    "u = mda.Universe(path+tpr,path+traj)"
   ]
  },
  {
   "cell_type": "code",
   "execution_count": 4,
   "metadata": {},
   "outputs": [
    {
     "name": "stderr",
     "output_type": "stream",
     "text": [
      "/home/kmpiston/.local/lib/python3.7/site-packages/MDAnalysis/core/selection.py:521: DeprecationWarning: `np.bool` is a deprecated alias for the builtin `bool`. To silence this warning, use `bool` by itself. Doing this will not modify any behavior and is safe. If you specifically wanted the numpy scalar type, use `np.bool_` here.\n",
      "Deprecated in NumPy 1.20; for more details and guidance: https://numpy.org/devdocs/release/1.20.0-notes.html#deprecations\n",
      "  mask = np.zeros(len(group), dtype=np.bool)\n",
      "/home/kmpiston/.local/lib/python3.7/site-packages/MDAnalysis/core/topologyattrs.py:2011: VisibleDeprecationWarning: Creating an ndarray from ragged nested sequences (which is a list-or-tuple of lists-or-tuples-or ndarrays with different lengths or shapes) is deprecated. If you meant to do this, you must specify 'dtype=object' when creating the ndarray.\n",
      "  np.array(sorted(unique_bonds)), 4)\n",
      "/home/kmpiston/.local/lib/python3.7/site-packages/MDAnalysis/core/topologyobjects.py:600: DeprecationWarning: `np.bool` is a deprecated alias for the builtin `bool`. To silence this warning, use `bool` by itself. Doing this will not modify any behavior and is safe. If you specifically wanted the numpy scalar type, use `np.bool_` here.\n",
      "Deprecated in NumPy 1.20; for more details and guidance: https://numpy.org/devdocs/release/1.20.0-notes.html#deprecations\n",
      "  guessed = np.asarray(guessed, dtype=np.bool)\n"
     ]
    }
   ],
   "source": [
    "#Creating an average structure to use as reference\n",
    "\n",
    "average = align.AverageStructure(u,u,select='resid 0:37 and name CA', ref_frame=0).run()\n"
   ]
  },
  {
   "cell_type": "code",
   "execution_count": 5,
   "metadata": {},
   "outputs": [],
   "source": [
    "ref = average.universe\n"
   ]
  },
  {
   "cell_type": "code",
   "execution_count": 6,
   "metadata": {},
   "outputs": [],
   "source": [
    "#Aligning the trajectory to a reference \n",
    "\n",
    "aligner = align.AlignTraj(u,ref, select='resid 0:37 and name CA', in_memory=True).run()\n",
    "\n"
   ]
  },
  {
   "cell_type": "code",
   "execution_count": 7,
   "metadata": {},
   "outputs": [],
   "source": [
    "c_alphas = u.select_atoms('resid 0:37 and name CA')\n",
    "R = rms.RMSF(c_alphas).run()\n"
   ]
  },
  {
   "cell_type": "code",
   "execution_count": 8,
   "metadata": {},
   "outputs": [],
   "source": [
    "y = R.rmsf\n",
    "x = c_alphas.resids\n"
   ]
  },
  {
   "cell_type": "code",
   "execution_count": 9,
   "metadata": {},
   "outputs": [],
   "source": [
    "df = pd.DataFrame({'Residue Number':x, 'RMSF':y})"
   ]
  },
  {
   "cell_type": "code",
   "execution_count": 15,
   "metadata": {},
   "outputs": [],
   "source": [
    "df = df.set_index(df['Residue Number'])\n"
   ]
  },
  {
   "cell_type": "code",
   "execution_count": 16,
   "metadata": {},
   "outputs": [],
   "source": [
    "from scipy import stats\n",
    "df['y_error']= stats.sem(df['RMSF'])*1.96 -.05"
   ]
  },
  {
   "cell_type": "code",
   "execution_count": 18,
   "metadata": {},
   "outputs": [],
   "source": [
    "err = df['y_error']\n"
   ]
  },
  {
   "cell_type": "code",
   "execution_count": 19,
   "metadata": {},
   "outputs": [],
   "source": [
    "#For Control System\n",
    "\"\"\"abbrev_col = ['A1 ','R2 ','T3 ','K4 ','Q5 ','T6 ','A7 ','R8 ','K9 ','S10','T11'\n",
    "              , 'G12','G13','K14','A15','P16','R17','K18','Q19','L20','A21',\n",
    "              'T22','K23','A24','A25','R26','K27','S28','A29','P30','A31',\n",
    "              'T32','G33','G34','V35','K36','K37','P38']\n",
    "\"\"\"\n",
    "#For mutation systems\n",
    "abbrev_col = ['A1 ','R2 ','T3 ','K4 ','Q5 ','T6 ','A7 ','R8 ','K9 ','S10','T11'\n",
    "              , 'G12','G13','K14','A15','*P16A','R17','K18','Q19','L20','A21',\n",
    "              'T22','K23','A24','A25','R26','K27','S28','A29','*P30A','A31',\n",
    "              'T32','G33','G34','V35','K36','K37','*P38A']\n",
    "\n"
   ]
  },
  {
   "cell_type": "code",
   "execution_count": 20,
   "metadata": {},
   "outputs": [
    {
     "data": {
      "text/plain": [
       "array([ 0,  1,  2,  3,  4,  5,  6,  7,  8,  9, 10, 11, 12, 13, 14, 15, 16,\n",
       "       17, 18, 19, 20, 21, 22, 23, 24, 25, 26, 27, 28, 29, 30, 31, 32, 33,\n",
       "       34, 35, 36, 37])"
      ]
     },
     "execution_count": 20,
     "metadata": {},
     "output_type": "execute_result"
    }
   ],
   "source": [
    "resid = np.arange(38)\n",
    "resid"
   ]
  },
  {
   "cell_type": "code",
   "execution_count": 21,
   "metadata": {},
   "outputs": [
    {
     "data": {
      "text/plain": [
       "['white',\n",
       " 'white',\n",
       " 'white',\n",
       " 'white',\n",
       " 'white',\n",
       " 'white',\n",
       " 'white',\n",
       " 'white',\n",
       " 'white',\n",
       " 'white',\n",
       " 'white',\n",
       " 'white',\n",
       " 'white',\n",
       " 'white',\n",
       " 'white',\n",
       " 'xkcd:bluey purple',\n",
       " 'white',\n",
       " 'white',\n",
       " 'white',\n",
       " 'white',\n",
       " 'white',\n",
       " 'white',\n",
       " 'white',\n",
       " 'white',\n",
       " 'white',\n",
       " 'white',\n",
       " 'white',\n",
       " 'white',\n",
       " 'white',\n",
       " 'xkcd:bluey purple',\n",
       " 'white',\n",
       " 'white',\n",
       " 'white',\n",
       " 'white',\n",
       " 'white',\n",
       " 'white',\n",
       " 'white',\n",
       " 'xkcd:bluey purple']"
      ]
     },
     "execution_count": 21,
     "metadata": {},
     "output_type": "execute_result"
    }
   ],
   "source": [
    "colors = []\n",
    "for c in range(38):\n",
    "    if c == 15:\n",
    "        #colors.append('xkcd:burnt orange')\n",
    "        colors.append('xkcd:bluey purple')\n",
    "    elif c == 29:\n",
    "        #colors.append('xkcd:burnt orange')\n",
    "        colors.append('xkcd:bluey purple')\n",
    "    elif c == 37:\n",
    "        #colors.append('xkcd:burnt orange')\n",
    "        colors.append('xkcd:bluey purple')\n",
    "    else:\n",
    "        colors.append('white')\n",
    "colors"
   ]
  },
  {
   "cell_type": "code",
   "execution_count": 22,
   "metadata": {},
   "outputs": [
    {
     "name": "stderr",
     "output_type": "stream",
     "text": [
      "findfont: Font family ['Arial'] not found. Falling back to DejaVu Sans.\n"
     ]
    },
    {
     "data": {
      "image/png": "[encoded data removed]",
      "text/plain": [
       "<Figure size 1080x360 with 1 Axes>"
      ]
     },
     "metadata": {
      "needs_background": "light"
     },
     "output_type": "display_data"
    }
   ],
   "source": [
    "fig_dims= (15,5)\n",
    "#sns.set_style(\"dark\")\n",
    "#matplotlib.style.use('_classic_test')\n",
    "font  = {'family' : 'Arial',\n",
    "        'weight' : 'bold',\n",
    "        'size'   : 22}\n",
    "\n",
    "#plt.rcParams['font.size'] = 18\n",
    "\n",
    "fig, ax = plt.subplots(figsize = fig_dims)\n",
    "#Plots\n",
    "ax.bar(x,y,yerr=err, \n",
    "       align='center',\n",
    "       color = colors,\n",
    "       edgecolor = 'black',\n",
    "       linewidth = 2.55,\n",
    "       #alpha=.5, \n",
    "       ecolor='black',\n",
    "       capsize = 2)\n",
    "plt.xticks(rotation = 90,fontsize=14, fontfamily='monospace', fontstretch='condensed', weight='bold')\n",
    "plt.xticks(resid,abbrev_col)\n",
    "plt.yticks([0,2,4,6])\n",
    "#ax.axes.get_yaxis().set_ticks([])\n",
    "#ax.tick_params(direction='out', left=False,width=4, length =6)\n",
    "\n",
    "ax.set_xlabel(\"Residue\", fontdict=font, labelpad=15)\n",
    "ax.set_ylabel(r\"C$_\\alpha$ RMSF ($\\AA$)\",fontdict=font, labelpad=15)\n",
    "ax.set_xlim(resid.min()-1, resid.max()+1)\n",
    "ax.set_ylim(0,6.5)\n",
    "ax.tick_params(direction=\"in\", width=7.5, length =10, right=True, top=False, bottom= True, labelsize =28, pad=15)#, bottom= False)\n",
    "ax.spines[\"top\"].set_linewidth(5)\n",
    "ax.spines[\"bottom\"].set_linewidth(5)\n",
    "ax.spines[\"left\"].set_linewidth(5)\n",
    "ax.spines[\"right\"].set_linewidth(5)\n",
    "\n",
    "plt.tight_layout()\n",
    "#plt.savefig(\"rmsf_fig_prolinemuation.png\", dpi= 300, transparent=True)"
   ]
  },
  {
   "cell_type": "code",
   "execution_count": 26,
   "metadata": {},
   "outputs": [],
   "source": [
    "#Save DF \n",
    "df.to_csv('/home/kmpiston/DNA_analy/2RMSF/Figure3_MutationRMSF.csv')"
   ]
  },
  {
   "cell_type": "code",
   "execution_count": 25,
   "metadata": {},
   "outputs": [
    {
     "data": {
      "text/plain": [
       "'/home/kmpiston/DNA_analy/2RMSF'"
      ]
     },
     "execution_count": 25,
     "metadata": {},
     "output_type": "execute_result"
    }
   ],
   "source": []
  },
  {
   "cell_type": "code",
   "execution_count": null,
   "metadata": {},
   "outputs": [],
   "source": []
  }
 ],
 "metadata": {
  "kernelspec": {
   "display_name": "Python 3",
   "language": "python",
   "name": "python3"
  },
  "language_info": {
   "codemirror_mode": {
    "name": "ipython",
    "version": 3
   },
   "file_extension": ".py",
   "mimetype": "text/x-python",
   "name": "python",
   "nbconvert_exporter": "python",
   "pygments_lexer": "ipython3",
   "version": "3.7.3"
  }
 },
 "nbformat": 4,
 "nbformat_minor": 2
}
